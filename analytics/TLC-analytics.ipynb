﻿{
  "metadata": {
    "name": "TLC analytics",
    "kernelspec": {
      "language": "scala",
      "name": "spark2-scala"
    },
    "language_info": {
      "codemirror_mode": "text/x-scala",
      "file_extension": ".scala",
      "mimetype": "text/x-scala",
      "name": "scala",
      "pygments_lexer": "scala"
    }
  },
  "nbformat": 4,
  "nbformat_minor": 2,
  "cells": [
    {
      "cell_type": "code",
      "execution_count": 0,
      "metadata": {
        "autoscroll": "auto"
      },
      "outputs": [],
      "source": "val df \u003d spark.read.option(\"header\", \"true\").parquet(\"/user/qz2166_nyu_edu/tlc_trip_data/yellow_taxi_clean_w_loc.parquet\");"
    },
    {
      "cell_type": "code",
      "execution_count": 1,
      "metadata": {
        "autoscroll": "auto"
      },
      "outputs": [],
      "source": "// most popular pickup location\nz.show(df\n    .groupBy(\"PULocation\")\n    .count\n    .sort(desc(\"count\")))"
    },
    {
      "cell_type": "code",
      "execution_count": 2,
      "metadata": {
        "autoscroll": "auto"
      },
      "outputs": [],
      "source": "// most popular dropoff location\nz.show(df\n    .groupBy(\"DOLocation\")\n    .count\n    .sort(desc(\"count\")))"
    },
    {
      "cell_type": "code",
      "execution_count": 3,
      "metadata": {
        "autoscroll": "auto"
      },
      "outputs": [],
      "source": "// most popular trip\nz.show(df\n    .groupBy(\"PULocation\", \"DOLocation\")\n    .count\n    .sort(desc(\"count\")))"
    },
    {
      "cell_type": "code",
      "execution_count": 4,
      "metadata": {
        "autoscroll": "auto"
      },
      "outputs": [],
      "source": "val tipDf \u003d df\n    .filter($\"payment_type\" \u003d\u003d\u003d 1)\n    .withColumn(\"tip_percentage\", $\"tip_amount\" / ($\"total_amount\" - $\"tip_amount\"))"
    },
    {
      "cell_type": "code",
      "execution_count": 5,
      "metadata": {
        "autoscroll": "auto"
      },
      "outputs": [],
      "source": "val pickupTipPctDf \u003d tipDf\n    .groupBy(\"PULocation\")\n    .agg(median($\"tip_amount\").alias(\"median tip percent\"), mean($\"tip_amount\").alias(\"average tip percent\"), count(\"*\").alias(\"number of trips\"), sum(when($\"tip_amount\" \u003d\u003d\u003d 0.0, 0).otherwise(1)).alias(\"number that tipped\"))\n    .withColumn(\"percentage that tipped\", $\"number that tipped\" / $\"number of trips\")\n    .filter($\"number of trips\" \u003e\u003d 1000)\n    .sort(desc(\"median tip percent\"))\n\nz.show(pickupTipPctDf)"
    },
    {
      "cell_type": "code",
      "execution_count": 6,
      "metadata": {
        "autoscroll": "auto"
      },
      "outputs": [],
      "source": "val dropoffTipPctDf \u003d tipDf\n    .groupBy(\"DOLocation\")\n    .agg(median($\"tip_amount\").alias(\"median tip percent\"), mean($\"tip_amount\").alias(\"average tip percent\"), count(\"*\").alias(\"number of trips\"), sum(when($\"tip_amount\" \u003d\u003d\u003d 0.0, 0).otherwise(1)).alias(\"number that tipped\"))\n    .withColumn(\"percentage that tipped\", $\"number that tipped\" / $\"number of trips\")\n    .filter($\"number of trips\" \u003e\u003d 1000)\n    .sort(desc(\"median tip percent\"))\n\nz.show(dropoffTipPctDf)"
    },
    {
      "cell_type": "code",
      "execution_count": 7,
      "metadata": {
        "autoscroll": "auto"
      },
      "outputs": [],
      "source": "val hourTipPct \u003d tipDf\n    .withColumn(\"hour\", hour($\"tpep_pickup_datetime\"))\n    .groupBy(\"hour\")\n    .agg(median($\"tip_amount\").alias(\"median tip percent\"), mean($\"tip_amount\").alias(\"average tip percent\"), count(\"*\").alias(\"number of trips\"), sum(when($\"tip_amount\" \u003d\u003d\u003d 0.0, 0).otherwise(1)).alias(\"number that tipped\"))\n    .withColumn(\"percentage that tipped\", $\"number that tipped\" / $\"number of trips\")\n    .sort(desc(\"median tip percent\"))\n    \nz.show(hourTipPct)"
    },
    {
      "cell_type": "code",
      "execution_count": 8,
      "metadata": {
        "autoscroll": "auto"
      },
      "outputs": [],
      "source": "val passengerTipPct \u003d tipDf\n    .groupBy(\"passenger_count\")\n    .agg(median($\"tip_amount\").alias(\"median tip percent\"), mean($\"tip_amount\").alias(\"average tip percent\"), count(\"*\").alias(\"number of trips\"), sum(when($\"tip_amount\" \u003d\u003d\u003d 0.0, 0).otherwise(1)).alias(\"number that tipped\"))\n    .withColumn(\"percentage that tipped\", $\"number that tipped\" / $\"number of trips\")\n    .sort(desc(\"average tip percent\"))\n    \nz.show(passengerTipPct)"
    }
  ]
}