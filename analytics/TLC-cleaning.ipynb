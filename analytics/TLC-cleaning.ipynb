﻿{
  "metadata": {
    "name": "TLC cleaning",
    "kernelspec": {
      "language": "scala",
      "name": "spark2-scala"
    },
    "language_info": {
      "codemirror_mode": "text/x-scala",
      "file_extension": ".scala",
      "mimetype": "text/x-scala",
      "name": "scala",
      "pygments_lexer": "scala"
    }
  },
  "nbformat": 4,
  "nbformat_minor": 2,
  "cells": [
    {
      "cell_type": "code",
      "execution_count": 0,
      "metadata": {
        "autoscroll": "auto"
      },
      "outputs": [],
      "source": "val rawDf \u003d spark.read.option(\"header\", \"true\").option(\"recursiveFileLookup\", \"true\").parquet(\"/user/qz2166_nyu_edu/tlc_trip_data/yellow_taxi_trip\")"
    },
    {
      "cell_type": "code",
      "execution_count": 1,
      "metadata": {
        "autoscroll": "auto"
      },
      "outputs": [],
      "source": "val sortedDf \u003d rawDf\n    .filter(to_date($\"tpep_dropoff_datetime\") \u003e\u003d \"2024-01-01\" \u0026\u0026 to_date($\"tpep_pickup_datetime\") \u003e\u003d \"2024-01-01\")\n    .filter(to_date($\"tpep_dropoff_datetime\") \u003c\u003d \"2024-09-30\" \u0026\u0026 to_date($\"tpep_pickup_datetime\") \u003c\u003d \"2024-09-30\")\n    .sort(asc(\"tpep_pickup_datetime\"))"
    },
    {
      "cell_type": "code",
      "execution_count": 2,
      "metadata": {
        "autoscroll": "auto"
      },
      "outputs": [],
      "source": "val cleanDf \u003d sortedDf\n    .filter($\"store_and_fwd_flag\".isNotNull)\n    .filter($\"passenger_count\" \u003e\u003d 1)\n    .filter($\"total_amount\" \u003e 0)\n    .filter($\"fare_amount\" \u003e 3)\n    .filter($\"trip_distance\" \u003e 0)\n    .filter($\"PULocationID\" !\u003d\u003d 264)\n    .filter($\"DOLocationID\" !\u003d\u003d 264)\n    \n// cleanDf.write.mode(\"overwrite\").parquet(\"/user/qz2166_nyu_edu/tlc_trip_data/yellow_taxi_clean.parquet\")"
    },
    {
      "cell_type": "code",
      "execution_count": 3,
      "metadata": {
        "autoscroll": "auto"
      },
      "outputs": [],
      "source": "val locationDf \u003d spark\r\n    .read\r\n    .option(\"header\", \"true\")\r\n    .csv(\"/user/qz2166_nyu_edu/taxi_zone_lookup.csv\")\r\n    .select(col(\"LocationID\").alias(\"location_id\"), concat_ws(\",\", col(\"Zone\"), col(\"Borough\")).alias(\"Location\"))"
    },
    {
      "cell_type": "code",
      "execution_count": 4,
      "metadata": {
        "autoscroll": "auto"
      },
      "outputs": [],
      "source": "val cleanLocDf \u003d cleanDf\n    .join(locationDf, cleanDf(\"PULocationID\") \u003d\u003d\u003d locationDf(\"location_id\"))\n    .withColumnRenamed(\"Location\", \"PULocation\")\n    .drop(\"location_id\", \"PULocationID\")\n    .join(locationDf, cleanDf(\"DOLocationID\") \u003d\u003d\u003d locationDf(\"location_id\"))\n    .withColumnRenamed(\"Location\", \"DOLocation\")\n    .drop(\"location_id\", \"DOLocationID\")\n\ncleanLocDf.write.mode(\"overwrite\").parquet(\"/user/qz2166_nyu_edu/tlc_trip_data/yellow_taxi_clean_w_loc.parquet\")"
    },
    {
      "cell_type": "code",
      "execution_count": 5,
      "metadata": {
        "autoscroll": "auto"
      },
      "outputs": [],
      "source": "// additionally getting rid of outliers and changing the columns, keeping only credit card transactions since those tips are automatically populated (cash tips aren\u0027t recorded)\n// also getting rid trips in and out of the city\nval mlDf \u003d cleanDf\n    .filter($\"PULocationID\" !\u003d\u003d 265)\n    .filter($\"DOLocationID\" !\u003d\u003d 265)\n    .filter($\"payment_type\" \u003d\u003d\u003d 1)\n    .filter($\"total_amount\" \u003c 250)\n    .join(locationDf, cleanDf(\"PULocationID\") \u003d\u003d\u003d locationDf(\"location_id\"))\n    .withColumnRenamed(\"Location\", \"PULocation\")\n    .drop(\"location_id\", \"PULocationID\")\n    .join(locationDf, cleanDf(\"DOLocationID\") \u003d\u003d\u003d locationDf(\"location_id\"))\n    .withColumnRenamed(\"Location\", \"DOLocation\")\n    .drop(\"location_id\", \"DOLocationID\")\n    .withColumn(\"starting_time\", hour($\"tpep_pickup_datetime\")*3600 + minute($\"tpep_pickup_datetime\")*60 + second($\"tpep_pickup_datetime\"))\n    .withColumn(\"trip_duration\", unix_timestamp($\"tpep_dropoff_datetime\") - unix_timestamp($\"tpep_pickup_datetime\"))\n    .withColumn(\"no_tip_amount\", $\"total_amount\" - $\"tip_amount\")\n    .select(\"tip_amount\", \"no_tip_amount\", \"starting_time\", \"trip_duration\", \"trip_distance\", \"PULocation\", \"DOLocation\", \"passenger_count\")\n    \nmlDf.write.mode(\"overwrite\").parquet(\"/user/qz2166_nyu_edu/tlc_trip_data/yellow_taxi_ml_clean.parquet\")\n\n"
    }
  ]
}